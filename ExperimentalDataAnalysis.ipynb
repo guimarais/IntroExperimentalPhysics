{
 "cells": [
  {
   "cell_type": "markdown",
   "metadata": {},
   "source": [
    "# Opening, visualizing and analyzing data\n",
    "\n",
    "In this document you can check the steps to look, explore and analyze the data from your experience. Make sure you have the datafiles in a subdiectory called __data__. Functions you develop should be stored in a subdirectory called __functions__."
   ]
  },
  {
   "cell_type": "code",
   "execution_count": 1,
   "metadata": {
    "collapsed": true
   },
   "outputs": [],
   "source": [
    "#To force the plots to be embeded in the notebook\n",
    "%matplotlib inline\n",
    "\n",
    "import matplotlib.pyplot as plt #For plotting\n",
    "import numpy as np #For numerical manipulation and opening text files\n",
    "from scipy.optimize import curve_fit\n",
    "#Set a style for the plots\n",
    "plt.style.use('seaborn-talk')"
   ]
  },
  {
   "cell_type": "markdown",
   "metadata": {},
   "source": [
    "## Opening the data\n",
    "There are two files in the subdirectory. One is a __character separated values__ (Exp1.csv) file, the other is a saved file from a spreadsheet program, in this case, libre office (Exp1.ods). If you look at the files, they have a first row to label what the value refer to."
   ]
  },
  {
   "cell_type": "code",
   "execution_count": 2,
   "metadata": {
    "collapsed": true
   },
   "outputs": [],
   "source": [
    "data = np.loadtxt('./data/Exp1.csv', delimiter=',', skiprows=1)"
   ]
  },
  {
   "cell_type": "code",
   "execution_count": 3,
   "metadata": {},
   "outputs": [
    {
     "data": {
      "text/plain": [
       "(9, 4)"
      ]
     },
     "execution_count": 3,
     "metadata": {},
     "output_type": "execute_result"
    }
   ],
   "source": [
    "data.shape"
   ]
  },
  {
   "cell_type": "markdown",
   "metadata": {},
   "source": [
    "It looks like the data was successfully opened. The next step is to plot it. Alternatively, for ease of use, you can do:"
   ]
  },
  {
   "cell_type": "code",
   "execution_count": 4,
   "metadata": {
    "collapsed": true
   },
   "outputs": [],
   "source": [
    "X = data[:,0]\n",
    "Y = data[:,1]\n",
    "EX = data[:,2]\n",
    "EY = data[:,3]"
   ]
  },
  {
   "cell_type": "markdown",
   "metadata": {},
   "source": [
    "## Plotting the data\n",
    "The order in the data file was (X, Y, EX, EY). Notice that we have 4 columns."
   ]
  },
  {
   "cell_type": "code",
   "execution_count": 5,
   "metadata": {},
   "outputs": [
    {
     "data": {
      "text/plain": [
       "<matplotlib.legend.Legend at 0x7f3bbb829210>"
      ]
     },
     "execution_count": 5,
     "metadata": {},
     "output_type": "execute_result"
    },
    {
     "data": {
      "image/png": "[encoded data removed]",
      "text/plain": [
       "<matplotlib.figure.Figure at 0x7f3bc2cdf750>"
      ]
     },
     "metadata": {},
     "output_type": "display_data"
    }
   ],
   "source": [
    "fig, ax = plt.subplots(nrows=1, ncols=1)\n",
    "\n",
    "ax.errorbar(X, Y, xerr=EX, yerr=EY, fmt='o', label='Measurements')\n",
    "\n",
    "ax.set_title('Errorbar example')\n",
    "\n",
    "ax.set_ylabel('Y [units of Y]')\n",
    "ax.set_xlabel('X [units of X]')\n",
    "\n",
    "#Set the legend out of the way\n",
    "ax.legend(loc='upper left')"
   ]
  },
  {
   "cell_type": "markdown",
   "metadata": {},
   "source": [
    "Always use a 'fmt' option in the plot."
   ]
  },
  {
   "cell_type": "markdown",
   "metadata": {},
   "source": [
    "## Fitting the data to a model\n",
    "\n",
    "In this example we know the phenomena we are studying has a quadratic dependence on X. First we will define a model function for the fit, then we will fit the function to the experimental data and check how good it is."
   ]
  },
  {
   "cell_type": "code",
   "execution_count": 6,
   "metadata": {
    "collapsed": true
   },
   "outputs": [],
   "source": [
    "def fit_function(x, a, b, c):\n",
    "    return a*x**2 + b*x +c"
   ]
  },
  {
   "cell_type": "code",
   "execution_count": 7,
   "metadata": {
    "collapsed": true
   },
   "outputs": [],
   "source": [
    "popt, pcov = curve_fit(fit_function, X, Y, sigma=EY)"
   ]
  },
  {
   "cell_type": "markdown",
   "metadata": {},
   "source": [
    "Check what parameters for a, b and c we get:"
   ]
  },
  {
   "cell_type": "code",
   "execution_count": 8,
   "metadata": {},
   "outputs": [
    {
     "name": "stdout",
     "output_type": "stream",
     "text": [
      "[  3.13130708 -16.17229786  -8.94786819]\n"
     ]
    }
   ],
   "source": [
    "print(popt)"
   ]
  },
  {
   "cell_type": "markdown",
   "metadata": {},
   "source": [
    "Check how the parameters relate to each other:"
   ]
  },
  {
   "cell_type": "code",
   "execution_count": 9,
   "metadata": {},
   "outputs": [
    {
     "name": "stdout",
     "output_type": "stream",
     "text": [
      "[[ 0.00580546 -0.05756564  0.10505186]\n",
      " [-0.05756564  0.60618006 -1.22020587]\n",
      " [ 0.10505186 -1.22020587  3.03119719]]\n"
     ]
    }
   ],
   "source": [
    "print(pcov)"
   ]
  },
  {
   "cell_type": "markdown",
   "metadata": {},
   "source": [
    "Calculate the errors for our fit parameters. These are simply the square root of the diagonal of the matrix."
   ]
  },
  {
   "cell_type": "code",
   "execution_count": 10,
   "metadata": {},
   "outputs": [
    {
     "name": "stdout",
     "output_type": "stream",
     "text": [
      "[ 0.07619355  0.77857566  1.74103337]\n"
     ]
    }
   ],
   "source": [
    "perr = np.sqrt(np.diag(pcov))\n",
    "print(perr)"
   ]
  },
  {
   "cell_type": "markdown",
   "metadata": {},
   "source": [
    "Calculate the __$R^2$__ parameter, which is defined in one of our auxilliary functions."
   ]
  },
  {
   "cell_type": "code",
   "execution_count": 13,
   "metadata": {},
   "outputs": [
    {
     "name": "stdout",
     "output_type": "stream",
     "text": [
      "0.999107230363\n"
     ]
    }
   ],
   "source": [
    "from functions import R2calc\n",
    "R2 = R2calc(Y, fit_function(X, *popt))\n",
    "print R2"
   ]
  },
  {
   "cell_type": "code",
   "execution_count": 14,
   "metadata": {},
   "outputs": [
    {
     "data": {
      "text/plain": [
       "<matplotlib.legend.Legend at 0x7f3bbb706910>"
      ]
     },
     "execution_count": 14,
     "metadata": {},
     "output_type": "execute_result"
    },
    {
     "data": {
      "image/png": "[encoded data removed]",
      "text/plain": [
       "<matplotlib.figure.Figure at 0x7f3bbb7e6a50>"
      ]
     },
     "metadata": {},
     "output_type": "display_data"
    }
   ],
   "source": [
    "fig, ax = plt.subplots(nrows=1, ncols=1)\n",
    "\n",
    "ax.set_title('Fitted model')\n",
    "\n",
    "ax.errorbar(X, Y, xerr=EX, yerr=EY, fmt='o', label='Measurements')\n",
    "\n",
    "#Make an array of more points so we can check the wellness of our model and a little beyond,\n",
    "#  for prediction capabilities\n",
    "#10% extension\n",
    "extension = (max(X)-min(X))*0.1\n",
    "newX = np.linspace(min(X)-extension, max(X)+extension, endpoint=True, num=100)\n",
    "ax.plot(newX, fit_function(newX, *popt), color='r', label='Fit $R^2=$'+str(R2))\n",
    "\n",
    "ax.set_ylabel('Y [units of Y]')\n",
    "ax.set_xlabel('X [units of X]')\n",
    "ax.legend(loc='upper left')"
   ]
  },
  {
   "cell_type": "code",
   "execution_count": null,
   "metadata": {
    "collapsed": true
   },
   "outputs": [],
   "source": []
  }
 ],
 "metadata": {
  "kernelspec": {
   "display_name": "Python 2",
   "language": "python",
   "name": "python2"
  },
  "language_info": {
   "codemirror_mode": {
    "name": "ipython",
    "version": 2
   },
   "file_extension": ".py",
   "mimetype": "text/x-python",
   "name": "python",
   "nbconvert_exporter": "python",
   "pygments_lexer": "ipython2",
   "version": "2.7.13"
  }
 },
 "nbformat": 4,
 "nbformat_minor": 2
}
